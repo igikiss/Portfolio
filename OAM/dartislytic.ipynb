{
 "cells": [
  {
   "cell_type": "code",
   "execution_count": 1,
   "metadata": {},
   "outputs": [],
   "source": [
    "import pandas as pd\n",
    "import numpy as np\n",
    "import matplotlib.pyplot as plt\n",
    "import seaborn as sns"
   ]
  },
  {
   "cell_type": "code",
   "execution_count": 2,
   "metadata": {},
   "outputs": [],
   "source": [
    "file = '/Users/igorkiss/Downloads/MLEX.csv'"
   ]
  },
  {
   "cell_type": "code",
   "execution_count": 3,
   "metadata": {},
   "outputs": [
    {
     "data": {
      "text/html": [
       "<div>\n",
       "<style scoped>\n",
       "    .dataframe tbody tr th:only-of-type {\n",
       "        vertical-align: middle;\n",
       "    }\n",
       "\n",
       "    .dataframe tbody tr th {\n",
       "        vertical-align: top;\n",
       "    }\n",
       "\n",
       "    .dataframe thead th {\n",
       "        text-align: right;\n",
       "    }\n",
       "</style>\n",
       "<table border=\"1\" class=\"dataframe\">\n",
       "  <thead>\n",
       "    <tr style=\"text-align: right;\">\n",
       "      <th></th>\n",
       "      <th>Číslo_ML</th>\n",
       "      <th>Dátum</th>\n",
       "      <th>Status</th>\n",
       "      <th>Zákazník</th>\n",
       "      <th>Prístroj</th>\n",
       "      <th>XX</th>\n",
       "      <th>Technik</th>\n",
       "      <th>Cena_ND</th>\n",
       "      <th>Cena_Celkom</th>\n",
       "    </tr>\n",
       "  </thead>\n",
       "  <tbody>\n",
       "    <tr>\n",
       "      <th>0</th>\n",
       "      <td>24-0005</td>\n",
       "      <td>22.01.2024</td>\n",
       "      <td>Dokončený</td>\n",
       "      <td>Vapotherm Deutschland GmbH</td>\n",
       "      <td>PF00028038-E,</td>\n",
       "      <td>30</td>\n",
       "      <td>Július  Pittner</td>\n",
       "      <td>516,91</td>\n",
       "      <td>516,91</td>\n",
       "    </tr>\n",
       "    <tr>\n",
       "      <th>1</th>\n",
       "      <td>24-0001</td>\n",
       "      <td>25.01.2024</td>\n",
       "      <td>Dokončený</td>\n",
       "      <td>Univerzitná nemocnica Bratislava</td>\n",
       "      <td>X216AA4381, Lôžko pôrodné Hill-Rom Affinity 4</td>\n",
       "      <td>30</td>\n",
       "      <td>Igor Kiss</td>\n",
       "      <td>1723,02</td>\n",
       "      <td>1783,02</td>\n",
       "    </tr>\n",
       "    <tr>\n",
       "      <th>2</th>\n",
       "      <td>24-0002</td>\n",
       "      <td>26.01.2024</td>\n",
       "      <td>Dokončený</td>\n",
       "      <td>Univerzitná nemocnica Bratislava</td>\n",
       "      <td>L091AA2935, Lôžko pôrodné Hill-Rom Affinity 4</td>\n",
       "      <td>30</td>\n",
       "      <td>Igor Kiss</td>\n",
       "      <td>1700,05</td>\n",
       "      <td>1760,05</td>\n",
       "    </tr>\n",
       "    <tr>\n",
       "      <th>3</th>\n",
       "      <td>24-0052</td>\n",
       "      <td>29.01.2024</td>\n",
       "      <td>Dokončený</td>\n",
       "      <td>Všeobecná nemocnica s poliklinikou Lučenec, n. o.</td>\n",
       "      <td>PFP00001030-E, Vapotherm Precision Flow Plus</td>\n",
       "      <td>30</td>\n",
       "      <td>Július  Pittner</td>\n",
       "      <td>1128,81</td>\n",
       "      <td>1566,81</td>\n",
       "    </tr>\n",
       "    <tr>\n",
       "      <th>4</th>\n",
       "      <td>24-0003</td>\n",
       "      <td>30.01.2024</td>\n",
       "      <td>Dokončený</td>\n",
       "      <td>Vapotherm Deutschland GmbH</td>\n",
       "      <td>PFPC00052399-E, Vapotherm Precision Flow Plus</td>\n",
       "      <td>30</td>\n",
       "      <td>Július  Pittner</td>\n",
       "      <td>143</td>\n",
       "      <td>143</td>\n",
       "    </tr>\n",
       "  </tbody>\n",
       "</table>\n",
       "</div>"
      ],
      "text/plain": [
       "  Číslo_ML       Dátum     Status  \\\n",
       "0  24-0005  22.01.2024  Dokončený   \n",
       "1  24-0001  25.01.2024  Dokončený   \n",
       "2  24-0002  26.01.2024  Dokončený   \n",
       "3  24-0052  29.01.2024  Dokončený   \n",
       "4  24-0003  30.01.2024  Dokončený   \n",
       "\n",
       "                                            Zákazník  \\\n",
       "0                         Vapotherm Deutschland GmbH   \n",
       "1                   Univerzitná nemocnica Bratislava   \n",
       "2                   Univerzitná nemocnica Bratislava   \n",
       "3  Všeobecná nemocnica s poliklinikou Lučenec, n. o.   \n",
       "4                         Vapotherm Deutschland GmbH   \n",
       "\n",
       "                                        Prístroj  XX          Technik  \\\n",
       "0                                 PF00028038-E,   30  Július  Pittner   \n",
       "1  X216AA4381, Lôžko pôrodné Hill-Rom Affinity 4  30        Igor Kiss   \n",
       "2  L091AA2935, Lôžko pôrodné Hill-Rom Affinity 4  30        Igor Kiss   \n",
       "3   PFP00001030-E, Vapotherm Precision Flow Plus  30  Július  Pittner   \n",
       "4  PFPC00052399-E, Vapotherm Precision Flow Plus  30  Július  Pittner   \n",
       "\n",
       "   Cena_ND Cena_Celkom  \n",
       "0   516,91      516,91  \n",
       "1  1723,02     1783,02  \n",
       "2  1700,05     1760,05  \n",
       "3  1128,81     1566,81  \n",
       "4      143         143  "
      ]
     },
     "execution_count": 3,
     "metadata": {},
     "output_type": "execute_result"
    }
   ],
   "source": [
    "data = pd.read_csv(file)\n",
    "data.columns = ['Číslo_ML', 'Dátum', 'Status', 'Zákazník', 'Prístroj', 'XX', 'Technik', 'Cena_ND', 'Cena_Celkom']\n",
    "data.head()"
   ]
  },
  {
   "cell_type": "code",
   "execution_count": 4,
   "metadata": {},
   "outputs": [
    {
     "data": {
      "text/plain": [
       "(421, 9)"
      ]
     },
     "execution_count": 4,
     "metadata": {},
     "output_type": "execute_result"
    }
   ],
   "source": [
    "data.shape"
   ]
  },
  {
   "cell_type": "code",
   "execution_count": 5,
   "metadata": {},
   "outputs": [
    {
     "name": "stdout",
     "output_type": "stream",
     "text": [
      "Číslo_ML       object\n",
      "Dátum          object\n",
      "Status         object\n",
      "Zákazník       object\n",
      "Prístroj       object\n",
      "XX              int64\n",
      "Technik        object\n",
      "Cena_ND        object\n",
      "Cena_Celkom    object\n",
      "dtype: object\n"
     ]
    }
   ],
   "source": [
    "print(data.dtypes)"
   ]
  },
  {
   "cell_type": "code",
   "execution_count": 6,
   "metadata": {},
   "outputs": [],
   "source": [
    "data['Cena_ND'] = data['Cena_ND'].str.replace(',', '.').astype(float)\n",
    "data['Cena_Celkom'] = data['Cena_Celkom'].str.replace(',', '.').astype(float)"
   ]
  },
  {
   "cell_type": "code",
   "execution_count": 7,
   "metadata": {},
   "outputs": [],
   "source": [
    "data['Dátum'] = pd.to_datetime(data['Dátum'], format='%d.%m.%Y')\n",
    "#data['Cena_ND'] = data['Cena_ND'].astype(float)\n",
    "#data['Cena_Celkom'] = data['Cena_Celkom'].astype(float)"
   ]
  },
  {
   "cell_type": "code",
   "execution_count": 8,
   "metadata": {},
   "outputs": [
    {
     "name": "stdout",
     "output_type": "stream",
     "text": [
      "Číslo_ML               object\n",
      "Dátum          datetime64[ns]\n",
      "Status                 object\n",
      "Zákazník               object\n",
      "Prístroj               object\n",
      "XX                      int64\n",
      "Technik                object\n",
      "Cena_ND               float64\n",
      "Cena_Celkom           float64\n",
      "dtype: object\n"
     ]
    }
   ],
   "source": [
    "print(data.dtypes)"
   ]
  },
  {
   "cell_type": "code",
   "execution_count": 9,
   "metadata": {},
   "outputs": [
    {
     "data": {
      "text/plain": [
       "array(['Július  Pittner', 'Igor Kiss', 'Jozef Benko', 'František Dulík'],\n",
       "      dtype=object)"
      ]
     },
     "execution_count": 9,
     "metadata": {},
     "output_type": "execute_result"
    }
   ],
   "source": [
    "data['Technik'].unique()"
   ]
  },
  {
   "cell_type": "code",
   "execution_count": 10,
   "metadata": {},
   "outputs": [],
   "source": [
    "total_price = data.groupby('Technik')['Cena_Celkom'].sum()\n",
    "part_price = data.groupby('Technik')['Cena_ND'].sum()"
   ]
  },
  {
   "cell_type": "code",
   "execution_count": 11,
   "metadata": {},
   "outputs": [
    {
     "data": {
      "text/plain": [
       "Technik\n",
       "František Dulík    45377.73\n",
       "Igor Kiss          87710.68\n",
       "Jozef Benko        46414.20\n",
       "Július  Pittner    20932.38\n",
       "Name: Cena_Celkom, dtype: float64"
      ]
     },
     "execution_count": 11,
     "metadata": {},
     "output_type": "execute_result"
    }
   ],
   "source": [
    "total_price "
   ]
  },
  {
   "cell_type": "code",
   "execution_count": 12,
   "metadata": {},
   "outputs": [
    {
     "data": {
      "text/plain": [
       "Technik\n",
       "František Dulík    39059.73\n",
       "Igor Kiss          65511.18\n",
       "Jozef Benko        36622.70\n",
       "Július  Pittner    17659.38\n",
       "Name: Cena_ND, dtype: float64"
      ]
     },
     "execution_count": 12,
     "metadata": {},
     "output_type": "execute_result"
    }
   ],
   "source": [
    "part_price"
   ]
  },
  {
   "cell_type": "code",
   "execution_count": 13,
   "metadata": {},
   "outputs": [],
   "source": [
    "\n",
    "data['month'] = data['Dátum'].dt.month\n",
    "data['year'] = data['Dátum'].dt.year\n",
    "data['month_year'] = data['Dátum'].dt.to_period('M')\n",
    "\n",
    "total_price_month = data.groupby('month_year')['Cena_Celkom'].sum()\n",
    "part_price_month = data.groupby('month_year')['Cena_ND'].sum()\n",
    "total_per_technician = data.groupby(['Technik', 'month_year'])['Cena_Celkom'].sum()\n",
    "part_per_technician = data.groupby(['Technik', 'month_year'])['Cena_ND'].sum()\n"
   ]
  },
  {
   "cell_type": "code",
   "execution_count": 14,
   "metadata": {},
   "outputs": [
    {
     "data": {
      "text/plain": [
       "Technik          month_year\n",
       "František Dulík  2024-02        4360.39\n",
       "                 2024-03        8061.72\n",
       "                 2024-04        4572.31\n",
       "                 2024-05       12117.21\n",
       "                 2024-06        9948.10\n",
       "Igor Kiss        2024-01        3537.62\n",
       "                 2024-02        9472.69\n",
       "                 2024-03       12653.53\n",
       "                 2024-04       12033.11\n",
       "                 2024-05       13689.62\n",
       "                 2024-06       14124.61\n",
       "Jozef Benko      2024-01           0.00\n",
       "                 2024-02       14697.76\n",
       "                 2024-03        8051.65\n",
       "                 2024-04        5411.27\n",
       "                 2024-05        6950.14\n",
       "                 2024-06        1511.88\n",
       "Július  Pittner  2024-01        2902.33\n",
       "                 2024-02       12548.98\n",
       "                 2024-03        2208.07\n",
       "Name: Cena_ND, dtype: float64"
      ]
     },
     "execution_count": 14,
     "metadata": {},
     "output_type": "execute_result"
    }
   ],
   "source": [
    "part_per_technician"
   ]
  },
  {
   "cell_type": "code",
   "execution_count": 15,
   "metadata": {},
   "outputs": [
    {
     "data": {
      "text/plain": [
       "month_year\n",
       "2024-01     3537.62\n",
       "2024-02     9472.69\n",
       "2024-03    12653.53\n",
       "2024-04    12033.11\n",
       "2024-05    13689.62\n",
       "2024-06    14124.61\n",
       "Freq: M, Name: Cena_ND, dtype: float64"
      ]
     },
     "execution_count": 15,
     "metadata": {},
     "output_type": "execute_result"
    }
   ],
   "source": [
    "igor_parts = part_per_technician['Igor Kiss']\n",
    "igor_parts"
   ]
  },
  {
   "cell_type": "code",
   "execution_count": 16,
   "metadata": {},
   "outputs": [
    {
     "data": {
      "text/plain": [
       "month_year\n",
       "2024-02     4360.39\n",
       "2024-03     8061.72\n",
       "2024-04     4572.31\n",
       "2024-05    12117.21\n",
       "2024-06     9948.10\n",
       "Freq: M, Name: Cena_ND, dtype: float64"
      ]
     },
     "execution_count": 16,
     "metadata": {},
     "output_type": "execute_result"
    }
   ],
   "source": [
    "fero_parts = part_per_technician['František Dulík']\n",
    "fero_parts  "
   ]
  },
  {
   "cell_type": "code",
   "execution_count": 17,
   "metadata": {},
   "outputs": [],
   "source": [
    "def plot_technician(technician):\n",
    "    plt.figure(figsize=(12, 6)) \n",
    "    sns.barplot(x=technician.index, y=technician.values)    \n",
    "    plt.xlabel('Month')\n",
    "    plt.ylabel('Parts price')\n",
    "    plt.title('Technician')\n",
    "    plt.show()"
   ]
  },
  {
   "cell_type": "code",
   "execution_count": 18,
   "metadata": {},
   "outputs": [
    {
     "data": {
      "image/png": "[encoded data removed]",
      "text/plain": [
       "<Figure size 1200x600 with 1 Axes>"
      ]
     },
     "metadata": {},
     "output_type": "display_data"
    }
   ],
   "source": [
    "plot_technician(igor_parts)"
   ]
  },
  {
   "cell_type": "code",
   "execution_count": 19,
   "metadata": {},
   "outputs": [
    {
     "data": {
      "image/png": "[encoded data removed]",
      "text/plain": [
       "<Figure size 1200x600 with 1 Axes>"
      ]
     },
     "metadata": {},
     "output_type": "display_data"
    }
   ],
   "source": [
    "plt.figure(figsize=(12, 6))\n",
    "sns.barplot(x='month_year', y='Cena_ND', data=data, hue='Technik')\n",
    "plt.show()"
   ]
  },
  {
   "cell_type": "code",
   "execution_count": 20,
   "metadata": {},
   "outputs": [
    {
     "data": {
      "text/plain": [
       "Technik\n",
       "František Dulík    5200.00\n",
       "Igor Kiss          4806.10\n",
       "Jozef Benko        1594.15\n",
       "Július  Pittner    2849.96\n",
       "Name: Cena_ND, dtype: float64"
      ]
     },
     "execution_count": 20,
     "metadata": {},
     "output_type": "execute_result"
    }
   ],
   "source": [
    "data.groupby('Technik')['Cena_ND'].max()"
   ]
  },
  {
   "cell_type": "code",
   "execution_count": 21,
   "metadata": {},
   "outputs": [
    {
     "data": {
      "text/plain": [
       "Technik\n",
       "František Dulík    351.889459\n",
       "Igor Kiss          301.894839\n",
       "Jozef Benko        508.648611\n",
       "Július  Pittner    840.922857\n",
       "Name: Cena_ND, dtype: float64"
      ]
     },
     "execution_count": 21,
     "metadata": {},
     "output_type": "execute_result"
    }
   ],
   "source": [
    "data.groupby('Technik')['Cena_ND'].mean()"
   ]
  },
  {
   "cell_type": "code",
   "execution_count": null,
   "metadata": {},
   "outputs": [],
   "source": []
  }
 ],
 "metadata": {
  "kernelspec": {
   "display_name": "Python 3",
   "language": "python",
   "name": "python3"
  },
  "language_info": {
   "codemirror_mode": {
    "name": "ipython",
    "version": 3
   },
   "file_extension": ".py",
   "mimetype": "text/x-python",
   "name": "python",
   "nbconvert_exporter": "python",
   "pygments_lexer": "ipython3",
   "version": "3.11.4"
  }
 },
 "nbformat": 4,
 "nbformat_minor": 2
}
